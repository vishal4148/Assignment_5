{
 "cells": [
  {
   "cell_type": "markdown",
   "id": "926bb5d7",
   "metadata": {},
   "source": [
    "### Write a Python class to implement pow(x, n)"
   ]
  },
  {
   "cell_type": "code",
   "execution_count": null,
   "id": "1686859a",
   "metadata": {},
   "outputs": [],
   "source": [
    "#Use should be able to find the nth power of the x.(i.e x*x*x*x...n times)\n",
    "\n",
    "#You must implement it using Class\n",
    "\n"
   ]
  },
  {
   "cell_type": "code",
   "execution_count": 22,
   "id": "04636340",
   "metadata": {},
   "outputs": [],
   "source": [
    "class power:\n",
    "    def __init__(self,x,n):\n",
    "        self.x=x\n",
    "        self.n=n\n",
    "        self.result=0\n",
    "        \n",
    "    def nth_power(self):\n",
    "        self.result=pow(self.x,self.n)\n",
    "        print(self.result)\n",
    "        \n"
   ]
  },
  {
   "cell_type": "code",
   "execution_count": 23,
   "id": "2c231c2a",
   "metadata": {},
   "outputs": [],
   "source": [
    "find=power(10,2)"
   ]
  },
  {
   "cell_type": "code",
   "execution_count": 24,
   "id": "7c15e26c",
   "metadata": {},
   "outputs": [
    {
     "name": "stdout",
     "output_type": "stream",
     "text": [
      "100\n"
     ]
    }
   ],
   "source": [
    "find.nth_power()"
   ]
  },
  {
   "cell_type": "code",
   "execution_count": null,
   "id": "0cc96e35",
   "metadata": {},
   "outputs": [],
   "source": []
  }
 ],
 "metadata": {
  "kernelspec": {
   "display_name": "Python 3 (ipykernel)",
   "language": "python",
   "name": "python3"
  },
  "language_info": {
   "codemirror_mode": {
    "name": "ipython",
    "version": 3
   },
   "file_extension": ".py",
   "mimetype": "text/x-python",
   "name": "python",
   "nbconvert_exporter": "python",
   "pygments_lexer": "ipython3",
   "version": "3.9.6"
  }
 },
 "nbformat": 4,
 "nbformat_minor": 5
}
