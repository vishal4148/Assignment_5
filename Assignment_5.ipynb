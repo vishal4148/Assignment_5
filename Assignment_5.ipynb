{
 "cells": [
  {
   "cell_type": "markdown",
   "id": "16430568",
   "metadata": {},
   "source": [
    "### Write a Python class to implement pow(x, n)"
   ]
  },
  {
   "cell_type": "code",
   "execution_count": null,
   "id": "1e8426b5",
   "metadata": {},
   "outputs": [],
   "source": [
    "#Use should be able to find the nth power of the x.(i.e x*x*x*x...n times)\n",
    "\n",
    "#You must implement it using Class\n",
    "\n"
   ]
  },
  {
   "cell_type": "code",
   "execution_count": 19,
   "id": "4b88391a",
   "metadata": {},
   "outputs": [],
   "source": [
    "class power:\n",
    "    def __init__(self,x,n):\n",
    "        self.x=x\n",
    "        self.n=n\n",
    "        self.result=0\n",
    "        \n",
    "    def nth_power(self):\n",
    "        self.result=power(self.x,self.n)\n",
    "        print(self.result)\n",
    "        \n"
   ]
  },
  {
   "cell_type": "code",
   "execution_count": 20,
   "id": "b21ada7b",
   "metadata": {},
   "outputs": [],
   "source": [
    "find=power(10,2)"
   ]
  },
  {
   "cell_type": "code",
   "execution_count": 21,
   "id": "324a1da2",
   "metadata": {},
   "outputs": [
    {
     "name": "stdout",
     "output_type": "stream",
     "text": [
      "<__main__.power object at 0x0000014762D4E310>\n"
     ]
    }
   ],
   "source": [
    "find.nth_power()"
   ]
  },
  {
   "cell_type": "code",
   "execution_count": null,
   "id": "699b027e",
   "metadata": {},
   "outputs": [],
   "source": []
  }
 ],
 "metadata": {
  "kernelspec": {
   "display_name": "Python 3 (ipykernel)",
   "language": "python",
   "name": "python3"
  },
  "language_info": {
   "codemirror_mode": {
    "name": "ipython",
    "version": 3
   },
   "file_extension": ".py",
   "mimetype": "text/x-python",
   "name": "python",
   "nbconvert_exporter": "python",
   "pygments_lexer": "ipython3",
   "version": "3.9.6"
  }
 },
 "nbformat": 4,
 "nbformat_minor": 5
}
